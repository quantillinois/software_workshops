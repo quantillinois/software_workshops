{
 "cells": [
  {
   "cell_type": "markdown",
   "metadata": {},
   "source": [
    "<h1 style=\"color: cyan;\">STRINGS IN PYTHON</h1>"
   ]
  },
  {
   "cell_type": "markdown",
   "metadata": {},
   "source": [
    "## Introduction"
   ]
  },
  {
   "cell_type": "code",
   "execution_count": 57,
   "metadata": {},
   "outputs": [
    {
     "name": "stdout",
     "output_type": "stream",
     "text": [
      "Example string: Hello, World!\n"
     ]
    }
   ],
   "source": [
    "# Strings in Python are sequences of characters enclosed in single (' ') or double quotes (\" \")\n",
    "\n",
    "# Example of a string\n",
    "example_string = \"Hello, World!\"\n",
    "print(\"Example string:\", example_string)\n"
   ]
  },
  {
   "cell_type": "code",
   "execution_count": 58,
   "metadata": {},
   "outputs": [
    {
     "name": "stdout",
     "output_type": "stream",
     "text": [
      "\n",
      "Multi-line string:\n",
      " This is\n",
      "a multi-line\n",
      "string.\n"
     ]
    }
   ],
   "source": [
    "# You can also use triple quotes for multi-line strings\n",
    "multi_line_string = '''This is\n",
    "a multi-line\n",
    "string.'''\n",
    "print(\"\\nMulti-line string:\\n\", multi_line_string)"
   ]
  },
  {
   "cell_type": "code",
   "execution_count": 85,
   "metadata": {},
   "outputs": [
    {
     "name": "stdout",
     "output_type": "stream",
     "text": [
      "\n",
      "Error: 'str' object does not support item assignment\n"
     ]
    }
   ],
   "source": [
    "# Strings are immutable, meaning they cannot be changed after creation\n",
    "# Trying to change a character in a string will raise an error\n",
    "try:\n",
    "    example_string[0] = 'h'\n",
    "except TypeError as e:\n",
    "    print(\"\\nError:\", e)"
   ]
  },
  {
   "cell_type": "code",
   "execution_count": 62,
   "metadata": {},
   "outputs": [
    {
     "name": "stdout",
     "output_type": "stream",
     "text": [
      "\n",
      "New string: hello, World!\n"
     ]
    }
   ],
   "source": [
    "# However, you can create a new string by concatenating two strings\n",
    "new_string = \"h\" + example_string[1:]\n",
    "print(\"\\nNew string:\", new_string)"
   ]
  },
  {
   "cell_type": "markdown",
   "metadata": {},
   "source": [
    "## Basic String Operations"
   ]
  },
  {
   "cell_type": "code",
   "execution_count": 63,
   "metadata": {},
   "outputs": [
    {
     "name": "stdout",
     "output_type": "stream",
     "text": [
      "Concatenated string: Hello, World!\n"
     ]
    }
   ],
   "source": [
    "# Concatenation (joining strings)\n",
    "string1 = \"Hello\"\n",
    "string2 = \"World\"\n",
    "concatenated_string = string1 + \", \" + string2 + \"!\"\n",
    "print(\"Concatenated string:\", concatenated_string)"
   ]
  },
  {
   "cell_type": "code",
   "execution_count": 64,
   "metadata": {},
   "outputs": [
    {
     "name": "stdout",
     "output_type": "stream",
     "text": [
      "Repeated string: HelloHelloHello\n"
     ]
    }
   ],
   "source": [
    "# Repeating strings\n",
    "repeated_string = string1 * 3\n",
    "print(\"Repeated string:\", repeated_string)"
   ]
  },
  {
   "cell_type": "code",
   "execution_count": 27,
   "metadata": {},
   "outputs": [
    {
     "name": "stdout",
     "output_type": "stream",
     "text": [
      "Length of 'example_string': 13\n"
     ]
    }
   ],
   "source": [
    "# Length of a string\n",
    "string_length = len(example_string)\n",
    "print(\"Length of 'example_string':\", string_length)"
   ]
  },
  {
   "cell_type": "code",
   "execution_count": 65,
   "metadata": {},
   "outputs": [
    {
     "name": "stdout",
     "output_type": "stream",
     "text": [
      "First character of 'example_string': H\n",
      "Last character of 'example_string': !\n"
     ]
    }
   ],
   "source": [
    "# Accessing characters (indexing)\n",
    "print(\"First character of 'example_string':\", example_string[0])\n",
    "print(\"Last character of 'example_string':\", example_string[-1])"
   ]
  },
  {
   "cell_type": "code",
   "execution_count": 68,
   "metadata": {},
   "outputs": [
    {
     "name": "stdout",
     "output_type": "stream",
     "text": [
      "Substring (0 to 5): Hello\n"
     ]
    }
   ],
   "source": [
    "# Slicing strings\n",
    "substring = example_string[0:5]  # Substring from index 0 to 4\n",
    "print(\"Substring (0 to 5):\", substring)"
   ]
  },
  {
   "cell_type": "markdown",
   "metadata": {},
   "source": [
    "## Useful String Functions"
   ]
  },
  {
   "cell_type": "code",
   "execution_count": 69,
   "metadata": {},
   "outputs": [
    {
     "name": "stdout",
     "output_type": "stream",
     "text": [
      "Uppercase: HELLO, WORLD!\n",
      "Lowercase: hello, world!\n",
      "Title case: Hello, World!\n"
     ]
    }
   ],
   "source": [
    "# Converting case\n",
    "print(\"Uppercase:\", example_string.upper())\n",
    "print(\"Lowercase:\", example_string.lower())\n",
    "print(\"Title case:\", example_string.title())  # Capitalize the first letter of each word"
   ]
  },
  {
   "cell_type": "code",
   "execution_count": 70,
   "metadata": {},
   "outputs": [
    {
     "name": "stdout",
     "output_type": "stream",
     "text": [
      "Does the string contain 'World'? True\n"
     ]
    }
   ],
   "source": [
    "# Checking for substrings\n",
    "print(\"Does the string contain 'World'?\", \"World\" in example_string)"
   ]
  },
  {
   "cell_type": "code",
   "execution_count": 33,
   "metadata": {},
   "outputs": [
    {
     "name": "stdout",
     "output_type": "stream",
     "text": [
      "Index of 'World': 7\n"
     ]
    }
   ],
   "source": [
    "# Finding a substring\n",
    "print(\"Index of 'World':\", example_string.find(\"World\"))"
   ]
  },
  {
   "cell_type": "code",
   "execution_count": 71,
   "metadata": {},
   "outputs": [
    {
     "name": "stdout",
     "output_type": "stream",
     "text": [
      "Replaced 'World' with 'Python': Hello, Python!\n"
     ]
    }
   ],
   "source": [
    "# Replacing substrings\n",
    "new_string = example_string.replace(\"World\", \"Python\")\n",
    "print(\"Replaced 'World' with 'Python':\", new_string)"
   ]
  },
  {
   "cell_type": "code",
   "execution_count": 72,
   "metadata": {},
   "outputs": [
    {
     "name": "stdout",
     "output_type": "stream",
     "text": [
      "Original with whitespace: '   Hello, Python!   '\n",
      "Stripped string: 'Hello, Python!'\n"
     ]
    }
   ],
   "source": [
    "# Stripping whitespace (or specific characters)\n",
    "whitespace_string = \"   Hello, Python!   \"\n",
    "print(\"Original with whitespace:\", repr(whitespace_string))\n",
    "print(\"Stripped string:\", repr(whitespace_string.strip()))"
   ]
  },
  {
   "cell_type": "code",
   "execution_count": 87,
   "metadata": {},
   "outputs": [
    {
     "name": "stdout",
     "output_type": "stream",
     "text": [
      "Split string: ['Hello', 'World!']\n",
      "Joined string: Hello-World!\n"
     ]
    }
   ],
   "source": [
    "# Splitting and joining strings\n",
    "split_string = example_string.split(\", \")  # Split based on the delimiter \", \"\n",
    "print(\"Split string:\", split_string)\n",
    "joined_string = \"-\".join(split_string)  # Join list elements with \"-\"\n",
    "print(\"Joined string:\", joined_string)"
   ]
  },
  {
   "cell_type": "code",
   "execution_count": 46,
   "metadata": {},
   "outputs": [
    {
     "name": "stdout",
     "output_type": "stream",
     "text": [
      "Unique characters: {'e', 'H', ',', 'r', 'o', ' ', 'l', 'W', '!', 'd'}\n",
      "Number of unique characters: 10\n"
     ]
    }
   ],
   "source": [
    "# Making a set of characters\n",
    "unique_characters = set(example_string)\n",
    "print(\"Unique characters:\", unique_characters)\n",
    "print(\"Number of unique characters:\", len(unique_characters))"
   ]
  },
  {
   "cell_type": "code",
   "execution_count": 76,
   "metadata": {},
   "outputs": [
    {
     "name": "stdout",
     "output_type": "stream",
     "text": [
      "Character counter: Counter({'l': 3, 'o': 2, 'H': 1, 'e': 1, ',': 1, ' ': 1, 'W': 1, 'r': 1, 'd': 1, '!': 1})\n",
      "Most common character: [('l', 3)]\n"
     ]
    }
   ],
   "source": [
    "# Counter for characters\n",
    "from collections import Counter\n",
    "character_counter = Counter(example_string)\n",
    "print(\"Character counter:\", character_counter)\n",
    "print(\"Most common character:\", character_counter.most_common(1))"
   ]
  },
  {
   "cell_type": "markdown",
   "metadata": {},
   "source": [
    "## String Comprehension"
   ]
  },
  {
   "cell_type": "code",
   "execution_count": 77,
   "metadata": {},
   "outputs": [
    {
     "name": "stdout",
     "output_type": "stream",
     "text": [
      "Uppercase words: ['APPLE', 'BANANA', 'CHERRY', 'DATE']\n"
     ]
    }
   ],
   "source": [
    "# String comprehension allows for creating strings based on conditions or transformations\n",
    "words = [\"apple\", \"banana\", \"cherry\", \"date\"]\n",
    "uppercase_words = [word.upper() for word in words]  # Convert all words to uppercase\n",
    "print(\"Uppercase words:\", uppercase_words)"
   ]
  },
  {
   "cell_type": "code",
   "execution_count": 56,
   "metadata": {},
   "outputs": [
    {
     "name": "stdout",
     "output_type": "stream",
     "text": [
      "Words containing 'a': ['today', 'learn', 'a', 'programming', 'language.']\n"
     ]
    }
   ],
   "source": [
    "# Filter strings based on conditions\n",
    "words_with_a = [word for word in words if 'a' in word]\n",
    "print(\"Words containing 'a':\", words_with_a)"
   ]
  },
  {
   "cell_type": "code",
   "execution_count": 80,
   "metadata": {},
   "outputs": [
    {
     "name": "stdout",
     "output_type": "stream",
     "text": [
      "Hello, Nishk Patel!\n"
     ]
    }
   ],
   "source": [
    "# Formatting strings\n",
    "first_name = \"Nishk\"\n",
    "last_name = \"Patel\"\n",
    "print(f\"Hello, {first_name} {last_name}!\")"
   ]
  },
  {
   "cell_type": "code",
   "execution_count": 81,
   "metadata": {},
   "outputs": [
    {
     "name": "stdout",
     "output_type": "stream",
     "text": [
      "You've learned the basics of string manipulation in Python!\n"
     ]
    }
   ],
   "source": [
    "print(\"You've learned the basics of string manipulation in Python!\")"
   ]
  },
  {
   "cell_type": "code",
   "execution_count": 84,
   "metadata": {},
   "outputs": [
    {
     "name": "stdout",
     "output_type": "stream",
     "text": [
      "6\n"
     ]
    }
   ],
   "source": [
    "string = \"5\"\n",
    "print(int(string) + 1)"
   ]
  }
 ],
 "metadata": {
  "kernelspec": {
   "display_name": "base",
   "language": "python",
   "name": "python3"
  },
  "language_info": {
   "codemirror_mode": {
    "name": "ipython",
    "version": 3
   },
   "file_extension": ".py",
   "mimetype": "text/x-python",
   "name": "python",
   "nbconvert_exporter": "python",
   "pygments_lexer": "ipython3",
   "version": "3.9.13"
  }
 },
 "nbformat": 4,
 "nbformat_minor": 2
}
