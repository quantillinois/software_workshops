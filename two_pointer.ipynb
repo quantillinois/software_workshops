{
 "cells": [
  {
   "cell_type": "code",
   "execution_count": 2,
   "metadata": {},
   "outputs": [
    {
     "data": {
      "text/plain": [
       "\"\\n# Two-Pointer Algorithm: An Introduction\\n\\nThe two-pointer algorithm is a common technique used to traverse a list or string from two ends, moving towards the center. \\nIt is often used for problems like checking if an array is a palindrome, finding pairs that meet a condition, and more.\\n\\nIn this notebook, we'll go over the two-pointer technique step by step with the example problem of checking whether a string is a valid palindrome.\\n\""
      ]
     },
     "execution_count": 2,
     "metadata": {},
     "output_type": "execute_result"
    }
   ],
   "source": [
    "# Cell 1: Introduction and two-pointer explanation\n",
    "\"\"\"\n",
    "# Two-Pointer Algorithm: An Introduction\n",
    "\n",
    "The two-pointer algorithm is a common technique used to traverse a list or string from two ends, moving towards the center. \n",
    "It is often used for problems like checking if an array is a palindrome, finding pairs that meet a condition, and more.\n",
    "\n",
    "In this notebook, we'll go over the two-pointer technique step by step with the example problem of checking whether a string is a valid palindrome.\n",
    "\"\"\""
   ]
  },
  {
   "cell_type": "code",
   "execution_count": 3,
   "metadata": {},
   "outputs": [
    {
     "data": {
      "text/plain": [
       "'\\n## Problem: Valid Palindrome\\n\\nA string is a palindrome if it reads the same backward as forward, ignoring spaces, punctuation, and case. Given a string, \\nwrite a function to check if it is a valid palindrome.\\n\\nExample:\\n- Input: \"A man, a plan, a canal: Panama\"\\n- Output: True\\n\\nWe\\'ll use the two-pointer algorithm to solve this problem.\\n'"
      ]
     },
     "execution_count": 3,
     "metadata": {},
     "output_type": "execute_result"
    }
   ],
   "source": [
    "# Cell 2: Problem explanation\n",
    "\"\"\"\n",
    "## Problem: Valid Palindrome\n",
    "\n",
    "A string is a palindrome if it reads the same backward as forward, ignoring spaces, punctuation, and case. Given a string, \n",
    "write a function to check if it is a valid palindrome.\n",
    "\n",
    "Example:\n",
    "- Input: \"A man, a plan, a canal: Panama\"\n",
    "- Output: True\n",
    "\n",
    "We'll use the two-pointer algorithm to solve this problem.\n",
    "\"\"\""
   ]
  },
  {
   "cell_type": "code",
   "execution_count": 4,
   "metadata": {},
   "outputs": [
    {
     "name": "stdout",
     "output_type": "stream",
     "text": [
      "Initial string: 'A man, a plan, a canal: Panama'\n",
      "Initial pointers: left = 0 (s[0] = A), right = 29 (s[29] = a)\n"
     ]
    }
   ],
   "source": [
    "# Cell 3: Initialize the Two-Pointer Variables\n",
    "# Let's start by setting up the initial variables and the example string.\n",
    "\n",
    "# Example string\n",
    "s = \"A man, a plan, a canal: Panama\"\n",
    "\n",
    "# Initialize the two pointers\n",
    "left, right = 0, len(s) - 1\n",
    "\n",
    "# Display the initial state of pointers\n",
    "print(f\"Initial string: '{s}'\")\n",
    "print(f\"Initial pointers: left = {left} (s[{left}] = {s[left]}), right = {right} (s[{right}] = {s[right]})\")"
   ]
  },
  {
   "cell_type": "code",
   "execution_count": 5,
   "metadata": {},
   "outputs": [
    {
     "name": "stdout",
     "output_type": "stream",
     "text": [
      "Checking characters: s[0] = 'A' and s[29] = 'a'\n",
      "Characters match: s[0] = 'A' == s[29] = 'a'\n",
      "Checking characters: s[1] = ' ' and s[28] = 'm'\n",
      "Skipping s[1] = ' ' (non-alphanumeric)\n",
      "Checking characters: s[2] = 'm' and s[28] = 'm'\n",
      "Characters match: s[2] = 'm' == s[28] = 'm'\n",
      "Checking characters: s[3] = 'a' and s[27] = 'a'\n",
      "Characters match: s[3] = 'a' == s[27] = 'a'\n",
      "Checking characters: s[4] = 'n' and s[26] = 'n'\n",
      "Characters match: s[4] = 'n' == s[26] = 'n'\n",
      "Checking characters: s[5] = ',' and s[25] = 'a'\n",
      "Skipping s[5] = ',' (non-alphanumeric)\n",
      "Checking characters: s[6] = ' ' and s[25] = 'a'\n",
      "Skipping s[6] = ' ' (non-alphanumeric)\n",
      "Checking characters: s[7] = 'a' and s[25] = 'a'\n",
      "Characters match: s[7] = 'a' == s[25] = 'a'\n",
      "Checking characters: s[8] = ' ' and s[24] = 'P'\n",
      "Skipping s[8] = ' ' (non-alphanumeric)\n",
      "Checking characters: s[9] = 'p' and s[24] = 'P'\n",
      "Characters match: s[9] = 'p' == s[24] = 'P'\n",
      "Checking characters: s[10] = 'l' and s[23] = ' '\n",
      "Skipping s[23] = ' ' (non-alphanumeric)\n",
      "Checking characters: s[10] = 'l' and s[22] = ':'\n",
      "Skipping s[22] = ':' (non-alphanumeric)\n",
      "Checking characters: s[10] = 'l' and s[21] = 'l'\n",
      "Characters match: s[10] = 'l' == s[21] = 'l'\n",
      "Checking characters: s[11] = 'a' and s[20] = 'a'\n",
      "Characters match: s[11] = 'a' == s[20] = 'a'\n",
      "Checking characters: s[12] = 'n' and s[19] = 'n'\n",
      "Characters match: s[12] = 'n' == s[19] = 'n'\n",
      "Checking characters: s[13] = ',' and s[18] = 'a'\n",
      "Skipping s[13] = ',' (non-alphanumeric)\n",
      "Checking characters: s[14] = ' ' and s[18] = 'a'\n",
      "Skipping s[14] = ' ' (non-alphanumeric)\n",
      "Checking characters: s[15] = 'a' and s[18] = 'a'\n",
      "Characters match: s[15] = 'a' == s[18] = 'a'\n",
      "Checking characters: s[16] = ' ' and s[17] = 'c'\n",
      "Skipping s[16] = ' ' (non-alphanumeric)\n",
      "Iteration complete.\n"
     ]
    }
   ],
   "source": [
    "# Cell 4: Iterating with Two Pointers\n",
    "# Now, we will iterate through the string using the two-pointer technique.\n",
    "\n",
    "# A helper function to check if a character is alphanumeric\n",
    "def is_alphanumeric(c):\n",
    "    return c.isalnum()\n",
    "\n",
    "# Iterate through the string\n",
    "while left < right:\n",
    "    print(f\"Checking characters: s[{left}] = '{s[left]}' and s[{right}] = '{s[right]}'\")\n",
    "\n",
    "    # Skip non-alphanumeric characters\n",
    "    if not is_alphanumeric(s[left]):\n",
    "        print(f\"Skipping s[{left}] = '{s[left]}' (non-alphanumeric)\")\n",
    "        left += 1\n",
    "    elif not is_alphanumeric(s[right]):\n",
    "        print(f\"Skipping s[{right}] = '{s[right]}' (non-alphanumeric)\")\n",
    "        right -= 1\n",
    "    else:\n",
    "        # Compare the characters\n",
    "        if s[left].lower() != s[right].lower():\n",
    "            print(f\"Mismatch found: s[{left}] = '{s[left]}' != s[{right}] = '{s[right]}'\")\n",
    "            break\n",
    "        print(f\"Characters match: s[{left}] = '{s[left]}' == s[{right}] = '{s[right]}'\")\n",
    "        left += 1\n",
    "        right -= 1\n",
    "\n",
    "print(\"Iteration complete.\")"
   ]
  },
  {
   "cell_type": "code",
   "execution_count": 6,
   "metadata": {},
   "outputs": [],
   "source": [
    "# Cell 5: Implementing the Valid Palindrome Function\n",
    "# Now that we have iterated and understood the two-pointer technique, let's implement the full solution as a function.\n",
    "\n",
    "def is_valid_palindrome(s: str) -> bool:\n",
    "    left, right = 0, len(s) - 1\n",
    "    \n",
    "    while left < right:\n",
    "        # Skip non-alphanumeric characters\n",
    "        if not is_alphanumeric(s[left]):\n",
    "            left += 1\n",
    "        elif not is_alphanumeric(s[right]):\n",
    "            right -= 1\n",
    "        else:\n",
    "            # If characters don't match, it's not a palindrome\n",
    "            if s[left].lower() != s[right].lower():\n",
    "                return False\n",
    "            left += 1\n",
    "            right -= 1\n",
    "            \n",
    "    return True\n"
   ]
  },
  {
   "cell_type": "code",
   "execution_count": null,
   "metadata": {},
   "outputs": [],
   "source": []
  },
  {
   "cell_type": "code",
   "execution_count": null,
   "metadata": {},
   "outputs": [],
   "source": []
  },
  {
   "cell_type": "code",
   "execution_count": null,
   "metadata": {},
   "outputs": [],
   "source": []
  }
 ],
 "metadata": {
  "kernelspec": {
   "display_name": "base",
   "language": "python",
   "name": "python3"
  },
  "language_info": {
   "codemirror_mode": {
    "name": "ipython",
    "version": 3
   },
   "file_extension": ".py",
   "mimetype": "text/x-python",
   "name": "python",
   "nbconvert_exporter": "python",
   "pygments_lexer": "ipython3",
   "version": "3.9.13"
  }
 },
 "nbformat": 4,
 "nbformat_minor": 2
}
